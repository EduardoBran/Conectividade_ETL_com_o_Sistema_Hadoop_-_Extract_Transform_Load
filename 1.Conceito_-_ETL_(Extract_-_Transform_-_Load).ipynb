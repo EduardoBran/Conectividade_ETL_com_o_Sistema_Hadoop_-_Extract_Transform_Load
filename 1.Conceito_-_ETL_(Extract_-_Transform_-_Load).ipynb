{
 "cells": [
  {
   "cell_type": "markdown",
   "id": "add3d876",
   "metadata": {},
   "source": [
    "# <center><span style=\"font-size: 42px;color: darkgreen;\">Conceito Sobre <u>ETL</u> (*Extract* - *Transform* - *Load*)</center></span>\n",
    "\n",
    "<br>\n",
    "\n",
    "Até aqui, \n",
    "\n",
    "<br><br>\n",
    "\n",
    "### O que é ETL (*Extract* - *Transform* - *Load*) ?\n",
    "\n",
    "<br>\n",
    "\n",
    "\n",
    "<br><br>\n",
    "\n",
    "### Qual a Função do ETL no *Big Data* ?\n",
    "\n",
    "<br>\n",
    "\n",
    "\n",
    "<br><br>\n",
    "\n",
    "### Principais Ferramentas ETLdo Mercado\n",
    "\n",
    "<br>\n",
    "\n",
    "\n",
    "<br><br>\n",
    "\n",
    "### Principais Bancos de Dados do Mercado\n",
    "\n",
    "<br>\n",
    "\n",
    "\n",
    "<br><br>\n",
    "\n"
   ]
  },
  {
   "cell_type": "code",
   "execution_count": null,
   "id": "b23487fb",
   "metadata": {},
   "outputs": [],
   "source": []
  },
  {
   "cell_type": "code",
   "execution_count": null,
   "id": "2749f851",
   "metadata": {},
   "outputs": [],
   "source": []
  }
 ],
 "metadata": {
  "kernelspec": {
   "display_name": "Python 3 (ipykernel)",
   "language": "python",
   "name": "python3"
  },
  "language_info": {
   "codemirror_mode": {
    "name": "ipython",
    "version": 3
   },
   "file_extension": ".py",
   "mimetype": "text/x-python",
   "name": "python",
   "nbconvert_exporter": "python",
   "pygments_lexer": "ipython3",
   "version": "3.9.7"
  }
 },
 "nbformat": 4,
 "nbformat_minor": 5
}
